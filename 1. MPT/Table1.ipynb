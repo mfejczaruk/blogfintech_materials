{
 "cells": [
  {
   "cell_type": "code",
   "execution_count": 2,
   "id": "6f856e10-c6fe-485e-a9b4-63202a025f71",
   "metadata": {},
   "outputs": [
    {
     "name": "stdout",
     "output_type": "stream",
     "text": [
      "   Statistic    AAPL  XAUUSD\n",
      "  Volatility  37.01%  19.09%\n",
      "Max Drawdown -56.91% -34.03%\n",
      "        CAGR  46.61%  11.99%\n",
      " Correlation    0.08        \n"
     ]
    }
   ],
   "source": [
    "import pandas as pd\n",
    "import numpy as np\n",
    "\n",
    "xauusd = pd.read_csv('xauusd_m_2004-2014.csv', delimiter=';', parse_dates=['Data'], dayfirst=False)\n",
    "aapl = pd.read_csv('aapl_us_m_2004-2014.csv', delimiter=';', parse_dates=['Data'], dayfirst=False)\n",
    "\n",
    "xauusd['Returns'] = xauusd['Zamkniecie'].pct_change()\n",
    "aapl['Returns'] = aapl['Zamkniecie'].pct_change()\n",
    "\n",
    "xauusd = xauusd.dropna()\n",
    "aapl = aapl.dropna()\n",
    "\n",
    "volatility_aapl = aapl['Returns'].std() * np.sqrt(12) * 100\n",
    "volatility_xauusd = xauusd['Returns'].std() * np.sqrt(12) * 100\n",
    "\n",
    "def max_drawdown(returns):\n",
    "    cumulative = (1 + returns).cumprod()\n",
    "    peak = cumulative.expanding(min_periods=1).max()\n",
    "    drawdown = (cumulative - peak) / peak\n",
    "    return drawdown.min() * 100\n",
    "\n",
    "max_drawdown_aapl = max_drawdown(aapl['Returns'])\n",
    "max_drawdown_xauusd = max_drawdown(xauusd['Returns'])\n",
    "\n",
    "def cagr(returns):\n",
    "    cumulative_return = (1 + returns).prod()\n",
    "    years = len(returns) / 12\n",
    "    return (cumulative_return ** (1 / years) - 1) * 100\n",
    "\n",
    "cagr_aapl = cagr(aapl['Returns'])\n",
    "cagr_xauusd = cagr(xauusd['Returns'])\n",
    "\n",
    "correlation = aapl['Returns'].corr(xauusd['Returns'])\n",
    "\n",
    "table = pd.DataFrame({\n",
    "    'Statistic': ['Volatility', 'Max Drawdown', 'CAGR', 'Correlation'],\n",
    "    'AAPL': [f\"{volatility_aapl:.2f}%\", f\"{max_drawdown_aapl:.2f}%\", f\"{cagr_aapl:.2f}%\", f\"{correlation:.2f}\"],\n",
    "    'XAUUSD': [f\"{volatility_xauusd:.2f}%\", f\"{max_drawdown_xauusd:.2f}%\", f\"{cagr_xauusd:.2f}%\", \"\"]\n",
    "})\n",
    "\n",
    "print(table.to_string(index=False))"
   ]
  }
 ],
 "metadata": {
  "kernelspec": {
   "display_name": "Python 3 (ipykernel)",
   "language": "python",
   "name": "python3"
  },
  "language_info": {
   "codemirror_mode": {
    "name": "ipython",
    "version": 3
   },
   "file_extension": ".py",
   "mimetype": "text/x-python",
   "name": "python",
   "nbconvert_exporter": "python",
   "pygments_lexer": "ipython3",
   "version": "3.13.1"
  }
 },
 "nbformat": 4,
 "nbformat_minor": 5
}
